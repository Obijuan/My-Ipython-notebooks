{
 "metadata": {
  "name": "",
  "signature": "sha256:486dd0af9199f0855e54ec46198468e03bad3dd6663e47dbe4fd691d57919e2c"
 },
 "nbformat": 3,
 "nbformat_minor": 0,
 "worksheets": [
  {
   "cells": [
    {
     "cell_type": "markdown",
     "metadata": {},
     "source": [
      "# Problem 7: 10001st prime\n",
      "\n",
      "\n",
      "\n",
      "By listing the first six prime numbers: 2, 3, 5, 7, 11, and 13, we can see that the 6th prime is 13.\n",
      "\n",
      "What is the 10 001st prime number?\n"
     ]
    },
    {
     "cell_type": "code",
     "collapsed": false,
     "input": [],
     "language": "python",
     "metadata": {},
     "outputs": []
    }
   ],
   "metadata": {}
  }
 ]
}