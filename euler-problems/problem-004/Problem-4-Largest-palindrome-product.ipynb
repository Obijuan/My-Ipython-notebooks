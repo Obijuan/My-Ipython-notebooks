{
 "metadata": {
  "name": "",
  "signature": "sha256:870c7895cbae12acd91ce88406c6ff0c3e64c323aaa917b48732525fed06a608"
 },
 "nbformat": 3,
 "nbformat_minor": 0,
 "worksheets": [
  {
   "cells": [
    {
     "cell_type": "markdown",
     "metadata": {},
     "source": [
      "# Problem 4: Largest palindrome product\n",
      "\n",
      "\n",
      "A palindromic number reads the same both ways. The largest palindrome made from the product of two 2-digit numbers is 9009 = 91 \u00d7 99.\n",
      "\n",
      "Find the largest palindrome made from the product of two 3-digit numbers.\n",
      "\n",
      "## Understanding the problem"
     ]
    },
    {
     "cell_type": "markdown",
     "metadata": {},
     "source": [
      "The maximum number obtained by multipliying two 3-digit numbers is:"
     ]
    },
    {
     "cell_type": "code",
     "collapsed": false,
     "input": [
      "N = 999 * 999\n",
      "print(N)"
     ],
     "language": "python",
     "metadata": {},
     "outputs": [
      {
       "output_type": "stream",
       "stream": "stdout",
       "text": [
        "998001\n"
       ]
      }
     ],
     "prompt_number": 40
    },
    {
     "cell_type": "markdown",
     "metadata": {},
     "source": [
      "We should find a polindrome p that not exceed N\n",
      "The primer digit of this number is 9. So, we should find the a number < N with the last number a 9\n",
      "Let's try with the number p1 = N - 2"
     ]
    },
    {
     "cell_type": "code",
     "collapsed": false,
     "input": [
      "p1 = N - 2\n",
      "print(p1)"
     ],
     "language": "python",
     "metadata": {},
     "outputs": [
      {
       "output_type": "stream",
       "stream": "stdout",
       "text": [
        "997999\n"
       ]
      }
     ],
     "prompt_number": 41
    },
    {
     "cell_type": "markdown",
     "metadata": {},
     "source": [
      "Almost a polindrome! Fist and last digit are equal and the bigests (9). Se second and fith are also equal and biggest (9)\n",
      "We should decrease the number by 200 so that it become a polindrome"
     ]
    },
    {
     "cell_type": "code",
     "collapsed": false,
     "input": [
      "p2 = p1 - 200\n",
      "print(p2)"
     ],
     "language": "python",
     "metadata": {},
     "outputs": [
      {
       "output_type": "stream",
       "stream": "stdout",
       "text": [
        "997799\n"
       ]
      }
     ],
     "prompt_number": 42
    },
    {
     "cell_type": "markdown",
     "metadata": {},
     "source": [
      "This is a palindrome!!!! Now it should be decomposed into two 3-digit number\n",
      "If not possible, then the next polindrome should be obtained and calculate the factors again"
     ]
    },
    {
     "cell_type": "code",
     "collapsed": false,
     "input": [
      "def factor(N):\n",
      "    for i in xrange(2,N):\n",
      "        if (N % i == 0):\n",
      "            return i\n",
      "    return 0"
     ],
     "language": "python",
     "metadata": {},
     "outputs": [],
     "prompt_number": 43
    },
    {
     "cell_type": "code",
     "collapsed": false,
     "input": [
      "def decompose(N):\n",
      "    f = factor(N)\n",
      "    lf = []\n",
      "    while f > 0:\n",
      "        lf.append(f)\n",
      "        N = N / f\n",
      "        #print(\"Factor: {}, Rest: {}\".format(f, N)) #-- Debuging\n",
      "        f = factor(N)\n",
      "    lf.append(N)\n",
      "    print(\"Factors:{}\".format(lf))\n",
      "    "
     ],
     "language": "python",
     "metadata": {},
     "outputs": [],
     "prompt_number": 44
    },
    {
     "cell_type": "code",
     "collapsed": false,
     "input": [
      "decompose(996699)"
     ],
     "language": "python",
     "metadata": {},
     "outputs": [
      {
       "output_type": "stream",
       "stream": "stdout",
       "text": [
        "Factors:[3, 11, 30203]\n"
       ]
      }
     ],
     "prompt_number": 45
    },
    {
     "cell_type": "markdown",
     "metadata": {},
     "source": [
      "The problem is that many of these palindromes do not have two 3-digit factors. It is better to study another approach\n",
      "## Second approach\n",
      "Start by iterating over the two factors. Every factors should go from 100 (the minimul) to 999. Perform all the multiplications and get a list with all the palindroms. A function for knowing if a number is a palindrom should be implemented. Finally get the maximum number in that list"
     ]
    },
    {
     "cell_type": "code",
     "collapsed": false,
     "input": [
      "#-- Function for detecting if a 5-6 digit number is a palindrome\n",
      "def is_palindrome(n):\n",
      "    #-- Convert the number into a string\n",
      "    s = str(n)\n",
      "    if s[0] != s[-1]:\n",
      "        return False  #--- Not a palindrome for sure\n",
      "    if s[1] != s[-2]:\n",
      "        return False  #--- Not a palindrome for sure\n",
      "    if len(s)==5:\n",
      "        return True   #-- A palindrome!\n",
      "    else:\n",
      "        if s[2]==s[3]:\n",
      "            return True\n",
      "        return False\n",
      "\n"
     ],
     "language": "python",
     "metadata": {},
     "outputs": [],
     "prompt_number": 46
    },
    {
     "cell_type": "code",
     "collapsed": false,
     "input": [
      "is_palindrome(99699)"
     ],
     "language": "python",
     "metadata": {},
     "outputs": [
      {
       "metadata": {},
       "output_type": "pyout",
       "prompt_number": 47,
       "text": [
        "True"
       ]
      }
     ],
     "prompt_number": 47
    },
    {
     "cell_type": "markdown",
     "metadata": {},
     "source": [
      "Get a list with all the 3-digit factors palindromes"
     ]
    },
    {
     "cell_type": "code",
     "collapsed": false,
     "input": [
      "l = []\n",
      "for i in range(100,1000):\n",
      "    for j in range(i, 1000):\n",
      "        n = i * j\n",
      "        if is_palindrome(n):\n",
      "          l.append(i*j)"
     ],
     "language": "python",
     "metadata": {},
     "outputs": [],
     "prompt_number": 48
    },
    {
     "cell_type": "code",
     "collapsed": false,
     "input": [
      "len(l)"
     ],
     "language": "python",
     "metadata": {},
     "outputs": [
      {
       "metadata": {},
       "output_type": "pyout",
       "prompt_number": 49,
       "text": [
        "1239"
       ]
      }
     ],
     "prompt_number": 49
    },
    {
     "cell_type": "markdown",
     "metadata": {},
     "source": [
      "Calculate the maximum palindrome"
     ]
    },
    {
     "cell_type": "code",
     "collapsed": false,
     "input": [
      "sol = max(l)\n",
      "print(sol)"
     ],
     "language": "python",
     "metadata": {},
     "outputs": [
      {
       "output_type": "stream",
       "stream": "stdout",
       "text": [
        "906609\n"
       ]
      }
     ],
     "prompt_number": 54
    },
    {
     "cell_type": "markdown",
     "metadata": {},
     "source": [
      "Let's check"
     ]
    },
    {
     "cell_type": "code",
     "collapsed": false,
     "input": [
      "decompose(sol)"
     ],
     "language": "python",
     "metadata": {},
     "outputs": [
      {
       "output_type": "stream",
       "stream": "stdout",
       "text": [
        "Factors:[3, 11, 83, 331]\n"
       ]
      }
     ],
     "prompt_number": 51
    },
    {
     "cell_type": "markdown",
     "metadata": {},
     "source": [
      "Let's group the factors:"
     ]
    },
    {
     "cell_type": "code",
     "collapsed": false,
     "input": [
      "f1 = 331 * 3\n",
      "f2 = 83 * 11"
     ],
     "language": "python",
     "metadata": {},
     "outputs": [],
     "prompt_number": 52
    },
    {
     "cell_type": "code",
     "collapsed": false,
     "input": [
      "print (\"{} = {} * {}\".format(sol, f1, f2))"
     ],
     "language": "python",
     "metadata": {},
     "outputs": [
      {
       "output_type": "stream",
       "stream": "stdout",
       "text": [
        "906609 = 993 * 913\n"
       ]
      }
     ],
     "prompt_number": 55
    },
    {
     "cell_type": "code",
     "collapsed": false,
     "input": [],
     "language": "python",
     "metadata": {},
     "outputs": []
    }
   ],
   "metadata": {}
  }
 ]
}