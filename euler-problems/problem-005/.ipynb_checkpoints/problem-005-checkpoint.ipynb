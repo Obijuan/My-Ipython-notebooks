{
 "metadata": {
  "name": "",
  "signature": "sha256:126512fc290e0d073bffce5dd5d17142a4f30378f32671e9014e20c905d3b2ca"
 },
 "nbformat": 3,
 "nbformat_minor": 0,
 "worksheets": [
  {
   "cells": [
    {
     "cell_type": "markdown",
     "metadata": {},
     "source": [
      "# Problem 5: smallest multiple\n",
      "\n",
      "\n",
      "2520 is the smallest number that can be divided by each of the numbers from 1 to 10 without any remainder.\n",
      "\n",
      "What is the smallest positive number that is evenly divisible by all of the numbers from 1 to 20?\n",
      "\n",
      "\n",
      "## Understanding the problem"
     ]
    },
    {
     "cell_type": "code",
     "collapsed": false,
     "input": [
      "2 * 3 * 4 * 5 * 6 * 7 * 8 * 9 * 10\n"
     ],
     "language": "python",
     "metadata": {},
     "outputs": [
      {
       "metadata": {},
       "output_type": "pyout",
       "prompt_number": 1,
       "text": [
        "3628800"
       ]
      }
     ],
     "prompt_number": 1
    },
    {
     "cell_type": "code",
     "collapsed": false,
     "input": [],
     "language": "python",
     "metadata": {},
     "outputs": []
    }
   ],
   "metadata": {}
  }
 ]
}