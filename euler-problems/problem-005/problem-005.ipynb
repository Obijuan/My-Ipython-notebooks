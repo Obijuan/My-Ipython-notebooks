{
 "metadata": {
  "name": "",
  "signature": "sha256:7559c1c622512b3a9406b09777a8252430a3941857f8999a44481ecf39520740"
 },
 "nbformat": 3,
 "nbformat_minor": 0,
 "worksheets": [
  {
   "cells": [
    {
     "cell_type": "markdown",
     "metadata": {},
     "source": [
      "# Problem 5: smallest multiple\n",
      "\n",
      "\n",
      "2520 is the smallest number that can be divided by each of the numbers from 1 to 10 without any remainder.\n",
      "\n",
      "What is the smallest positive number that is evenly divisible by all of the numbers from 1 to 20?\n",
      "\n",
      "\n",
      "## Understanding the problem\n",
      "\n",
      "The approach will be the following:\n",
      "\n",
      "* Create a list of all the factors of the numbers from 1 to 20\n",
      "* Obtain all the different factors. Get the equal factors with the greatest exponent \n",
      "* Multiply the factors: this is the solution"
     ]
    },
    {
     "cell_type": "markdown",
     "metadata": {},
     "source": [
      "Functions for obtaining all the factors of a number\n"
     ]
    },
    {
     "cell_type": "code",
     "collapsed": false,
     "input": [
      "def factor(N):\n",
      "    for i in range(2,N):\n",
      "        if (N % i == 0):\n",
      "            return i\n",
      "    return 0\n",
      "\n",
      "def decompose(N):\n",
      "    f = factor(N)\n",
      "    lf = []\n",
      "    while f > 0:\n",
      "        lf.append(f)\n",
      "        N = N / f\n",
      "        #print(\"Factor: {}, Rest: {}\".format(f, N)) #-- Debuging\n",
      "        f = factor(N)\n",
      "    lf.append(N)\n",
      "    \n",
      "    #-- Create a dictionary with the factors and exponents\n",
      "    d = {}\n",
      "    for f in lf:\n",
      "        try:\n",
      "            d[f] += 1\n",
      "        except:\n",
      "            d[f] = 1\n",
      "            \n",
      "    return d"
     ],
     "language": "python",
     "metadata": {},
     "outputs": [],
     "prompt_number": 57
    },
    {
     "cell_type": "markdown",
     "metadata": {},
     "source": [
      "\n",
      "Checking the function"
     ]
    },
    {
     "cell_type": "code",
     "collapsed": false,
     "input": [
      "for i in range(2,21):\n",
      "  print(\"{}: {}\".format(i, decompose(i)))"
     ],
     "language": "python",
     "metadata": {},
     "outputs": [
      {
       "output_type": "stream",
       "stream": "stdout",
       "text": [
        "2: {2: 1}\n",
        "3: {3: 1}\n",
        "4: {2: 2}\n",
        "5: {5: 1}\n",
        "6: {2: 1, 3: 1}\n",
        "7: {7: 1}\n",
        "8: {2: 3}\n",
        "9: {3: 2}\n",
        "10: {2: 1, 5: 1}\n",
        "11: {11: 1}\n",
        "12: {2: 2, 3: 1}\n",
        "13: {13: 1}\n",
        "14: {2: 1, 7: 1}\n",
        "15: {3: 1, 5: 1}\n",
        "16: {2: 4}\n",
        "17: {17: 1}\n",
        "18: {2: 1, 3: 2}\n",
        "19: {19: 1}\n",
        "20: {2: 2, 5: 1}\n"
       ]
      }
     ],
     "prompt_number": 58
    },
    {
     "cell_type": "markdown",
     "metadata": {},
     "source": [
      "Now all the factors should be included in a new dictionary following the criteria of including the ones with the maximum exponent or factors that are not already there"
     ]
    },
    {
     "cell_type": "code",
     "collapsed": false,
     "input": [
      "df = {}\n",
      "for i in range(2,21):\n",
      "    d = decompose(i)\n",
      "    for f in d.keys():\n",
      "        try:\n",
      "            df[f] = max(df[f], d[f])\n",
      "        except:\n",
      "            df[f] = 1\n"
     ],
     "language": "python",
     "metadata": {},
     "outputs": [],
     "prompt_number": 76
    },
    {
     "cell_type": "markdown",
     "metadata": {},
     "source": [
      "Finally, al the factors should be multiplied between them to obtaing the solution"
     ]
    },
    {
     "cell_type": "code",
     "collapsed": false,
     "input": [
      "n = 1\n",
      "for f in df.keys():\n",
      "    n = n * (f ** df[f])\n"
     ],
     "language": "python",
     "metadata": {},
     "outputs": [],
     "prompt_number": 77
    },
    {
     "cell_type": "code",
     "collapsed": false,
     "input": [
      "print(\"The solution is: {}\".format(n))"
     ],
     "language": "python",
     "metadata": {},
     "outputs": [
      {
       "output_type": "stream",
       "stream": "stdout",
       "text": [
        "The solution is: 232792560\n"
       ]
      }
     ],
     "prompt_number": 78
    },
    {
     "cell_type": "code",
     "collapsed": false,
     "input": [],
     "language": "python",
     "metadata": {},
     "outputs": []
    }
   ],
   "metadata": {}
  }
 ]
}