{
 "metadata": {
  "name": "",
  "signature": "sha256:ec2acc2b1344b48072d384a921ed358c6c340f9ada03d0dd64bc9ee8f5c4b034"
 },
 "nbformat": 3,
 "nbformat_minor": 0,
 "worksheets": [
  {
   "cells": [
    {
     "cell_type": "markdown",
     "metadata": {},
     "source": [
      "# Problem 6: Sum square difference\n",
      "\n",
      "\n",
      "The sum of the squares of the first ten natural numbers is,\n",
      "$ 1^2 + 2^2 + ... + 10^2 = 385 $\n",
      "\n",
      "The square of the sum of the first ten natural numbers is,\n",
      "$ (1 + 2 + ... + 10)^2 = 55^2 = 3025 $\n",
      "\n",
      "Hence the difference between the sum of the squares of the first ten natural numbers and the square of the sum is 3025 \u2212 385 = 2640.\n",
      "\n",
      "Find the difference between the sum of the squares of the first one hundred natural numbers and the square of the sum.\n"
     ]
    },
    {
     "cell_type": "markdown",
     "metadata": {},
     "source": [
      "## Solution\n",
      "The sum of the squares can be done very easily:"
     ]
    },
    {
     "cell_type": "code",
     "collapsed": false,
     "input": [
      "l = [x ** 2 for x in range(1,101)]  #-- List with squares\n",
      "sum1 = reduce(lambda x,y: x + y, l)       #-- Summ all the list's elements"
     ],
     "language": "python",
     "metadata": {},
     "outputs": [],
     "prompt_number": 19
    },
    {
     "cell_type": "markdown",
     "metadata": {},
     "source": [
      "Then the square of the sum:"
     ]
    },
    {
     "cell_type": "code",
     "collapsed": false,
     "input": [
      "sum2 = reduce(lambda x,y: x + y, range(1,101)) ** 2"
     ],
     "language": "python",
     "metadata": {},
     "outputs": [],
     "prompt_number": 20
    },
    {
     "cell_type": "markdown",
     "metadata": {},
     "source": [
      "Finally the solution:"
     ]
    },
    {
     "cell_type": "code",
     "collapsed": false,
     "input": [
      "print(\"The solution is: {}\".format(sum2 - sum1))"
     ],
     "language": "python",
     "metadata": {},
     "outputs": [
      {
       "output_type": "stream",
       "stream": "stdout",
       "text": [
        "The solution is: 25164150\n"
       ]
      }
     ],
     "prompt_number": 21
    },
    {
     "cell_type": "code",
     "collapsed": false,
     "input": [],
     "language": "python",
     "metadata": {},
     "outputs": [],
     "prompt_number": 21
    }
   ],
   "metadata": {}
  }
 ]
}