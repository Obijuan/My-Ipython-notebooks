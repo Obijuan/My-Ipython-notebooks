{
 "metadata": {
  "name": "",
  "signature": "sha256:5d5026428640771e4e804b5ff6c488671596c79ed232c6a30e744daec2a6c92d"
 },
 "nbformat": 3,
 "nbformat_minor": 0,
 "worksheets": [
  {
   "cells": [
    {
     "cell_type": "markdown",
     "metadata": {},
     "source": [
      "# Euler Problem 3: Largest prime factor\n",
      "\n",
      "## Problem statement\n",
      "\n",
      "The prime factors of 13195 are 5, 7, 13 and 29.\n",
      "\n",
      "What is the largest prime factor of the number 600851475143 ?\n",
      "\n",
      "## Solution"
     ]
    },
    {
     "cell_type": "markdown",
     "metadata": {},
     "source": [
      "Define a function that calculates the first factor of the number"
     ]
    },
    {
     "cell_type": "code",
     "collapsed": false,
     "input": [
      "def factor(N):\n",
      "    for i in xrange(2,N):\n",
      "        if (N % i == 0):\n",
      "            return i\n",
      "    return 0"
     ],
     "language": "python",
     "metadata": {},
     "outputs": [],
     "prompt_number": 3
    },
    {
     "cell_type": "markdown",
     "metadata": {},
     "source": [
      "Once the first factor is calculated, the same factor function is applied to the result of dividing N by that factor\n",
      "It is iterated until all the factors are obtained"
     ]
    },
    {
     "cell_type": "code",
     "collapsed": false,
     "input": [
      "N = 600851475143\n",
      "f = factor(N)\n",
      "lf = []\n",
      "while f > 0:\n",
      "    lf.append(f)\n",
      "    N = N / f\n",
      "    #print(\"Factor: {}, Rest: {}\".format(f, N)) #-- Debuging\n",
      "    f = factor(N)\n",
      "    \n",
      "lf.append(N)\n",
      "print(\"Factors:{}\".format(lf))\n"
     ],
     "language": "python",
     "metadata": {},
     "outputs": [
      {
       "output_type": "stream",
       "stream": "stdout",
       "text": [
        "Factors:[71, 839, 1471, 6857]\n"
       ]
      }
     ],
     "prompt_number": 20
    },
    {
     "cell_type": "markdown",
     "metadata": {},
     "source": [
      "The solution is the maximum factor"
     ]
    },
    {
     "cell_type": "code",
     "collapsed": false,
     "input": [
      "print(\"Solution: {}\".format(max(lf)))"
     ],
     "language": "python",
     "metadata": {},
     "outputs": [
      {
       "output_type": "stream",
       "stream": "stdout",
       "text": [
        "Solution: 6857\n"
       ]
      }
     ],
     "prompt_number": 22
    },
    {
     "cell_type": "code",
     "collapsed": false,
     "input": [
      "factor(90709)\n"
     ],
     "language": "python",
     "metadata": {},
     "outputs": [
      {
       "metadata": {},
       "output_type": "pyout",
       "prompt_number": 26,
       "text": [
        "0"
       ]
      }
     ],
     "prompt_number": 26
    },
    {
     "cell_type": "code",
     "collapsed": false,
     "input": [
      "f = [11]\n",
      "N = 997799 / 11"
     ],
     "language": "python",
     "metadata": {},
     "outputs": [],
     "prompt_number": 25
    },
    {
     "cell_type": "code",
     "collapsed": false,
     "input": [],
     "language": "python",
     "metadata": {},
     "outputs": []
    }
   ],
   "metadata": {}
  }
 ]
}