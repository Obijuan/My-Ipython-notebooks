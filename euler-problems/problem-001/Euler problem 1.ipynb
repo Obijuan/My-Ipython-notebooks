{
 "metadata": {
  "name": "",
  "signature": "sha256:706a85709713edb63de7c7e84b8997aa6f09fa17255be89681d4923e1a678ba4"
 },
 "nbformat": 3,
 "nbformat_minor": 0,
 "worksheets": [
  {
   "cells": [
    {
     "cell_type": "markdown",
     "metadata": {},
     "source": [
      "# Problem 1\n",
      "\n",
      "If we list all the natural numbers below 10 that are multiples of 3 or 5, we get 3, 5, 6 and 9. The sum of these multiples is 23.\n",
      "\n",
      "Find the sum of all the multiples of 3 or 5 below 1000."
     ]
    },
    {
     "cell_type": "markdown",
     "metadata": {},
     "source": [
      "# Solution\n",
      "First a list with the multipliers of 3 below 1000 are calculated"
     ]
    },
    {
     "cell_type": "code",
     "collapsed": false,
     "input": [
      "limit = 1000\n",
      "m3 = [3 * i  for i in range(limit/3 + 1) if i > 0 and 3 * i < limit]"
     ],
     "language": "python",
     "metadata": {},
     "outputs": [],
     "prompt_number": 18
    },
    {
     "cell_type": "markdown",
     "metadata": {},
     "source": [
      "Another list with the multipliers of 5 below 5"
     ]
    },
    {
     "cell_type": "code",
     "collapsed": false,
     "input": [
      "m5 = [5 * i for i in range(limit/5 + 1) if i > 0 and 5 * i < limit]"
     ],
     "language": "python",
     "metadata": {},
     "outputs": [],
     "prompt_number": 19
    },
    {
     "cell_type": "markdown",
     "metadata": {},
     "source": [
      "The two list are joint and converted into a set so to avoid repeated numbers (for example, 15 es a multiplier of 3 and 5)"
     ]
    },
    {
     "cell_type": "code",
     "collapsed": false,
     "input": [
      "l = set(m3 + m5)"
     ],
     "language": "python",
     "metadata": {},
     "outputs": [],
     "prompt_number": 20
    },
    {
     "cell_type": "markdown",
     "metadata": {},
     "source": [
      "Sum all the elements"
     ]
    },
    {
     "cell_type": "code",
     "collapsed": false,
     "input": [
      "sum = 0\n",
      "for e in l:\n",
      "    sum += e"
     ],
     "language": "python",
     "metadata": {},
     "outputs": [],
     "prompt_number": 21
    },
    {
     "cell_type": "markdown",
     "metadata": {},
     "source": [
      "Print the solution to the problem"
     ]
    },
    {
     "cell_type": "code",
     "collapsed": false,
     "input": [
      "print(\"The solution to the problem is {}\").format(sum)"
     ],
     "language": "python",
     "metadata": {},
     "outputs": [
      {
       "output_type": "stream",
       "stream": "stdout",
       "text": [
        "The solution to the problem is 233168\n"
       ]
      }
     ],
     "prompt_number": 29
    },
    {
     "cell_type": "code",
     "collapsed": false,
     "input": [],
     "language": "python",
     "metadata": {},
     "outputs": [],
     "prompt_number": 28
    }
   ],
   "metadata": {}
  }
 ]
}