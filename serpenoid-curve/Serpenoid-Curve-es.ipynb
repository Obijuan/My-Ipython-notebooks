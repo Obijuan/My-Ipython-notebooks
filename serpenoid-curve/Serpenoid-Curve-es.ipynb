{
 "metadata": {
  "name": "",
  "signature": "sha256:37555e7cb0b18138026b2ad452e9a76a6692da6b2eeabb988f26963c38ed71f1"
 },
 "nbformat": 3,
 "nbformat_minor": 0,
 "worksheets": [
  {
   "cells": [
    {
     "cell_type": "heading",
     "level": 1,
     "metadata": {},
     "source": [
      "CURVA SERPENTINOIDE"
     ]
    },
    {
     "cell_type": "markdown",
     "metadata": {},
     "source": [
      "<img src=\"images/png/Serpenoid-intro-image.png\" width=\"400\" align=\"left\">"
     ]
    },
    {
     "cell_type": "markdown",
     "metadata": {},
     "source": [
      "**Autor**: [Juan Gonz\u00e1lez G\u00f3mez (Obijuan)](http://www.iearobotics.com/wiki/index.php?title=Juan_Gonzalez:Main)\n",
      "\n",
      "**Fecha**: 18-Enero-2015\n",
      "\n",
      "Este notebook es una adaptaci\u00f3n de [esta p\u00e1gina de la wiki](http://www.iearobotics.com/wiki/index.php?title=Curva_serpentinoide) donde se comenz\u00f3 a documentar la curva y su implementaci\u00f3n en octave/Matlab\n",
      "\n",
      "Adem\u00e1s de ampliar la informaci\u00f3n sobre la curva, quiero aprovechar para aprender los ipython notebooks"
     ]
    },
    {
     "cell_type": "markdown",
     "metadata": {},
     "source": [
      "# Introducci\u00f3n\n",
      "\n",
      "La **curva serpentinoide** (o curva serpenoide, serpenoid curve en ingl\u00e9s) la descubri\u00f3 el **profesor Hirose** en 1976 cuando realizaba su tesis doctoral en el Instituto de tecnolog\u00eda de Tokyo. Investigaba la biomec\u00e1nica de las serpientes para su aplicaci\u00f3n a la construcci\u00f3n de robots.\n",
      "\n",
      "La curva serpentinoide es indispensable para el estudio y construcci\u00f3n de **robots \u00e1podos** (gusanos y serpientes). El autor de este art\u00edculo la ha estudiado en su tesis doctoral para aplicarla a la locomoci\u00f3n de estos robots.\n",
      "\n",
      "En este documento se describe la **curva/onda serpentinoide**, sus par\u00e1metros, sus propiedas y se presentan scripts en python para implementarla.\n"
     ]
    },
    {
     "cell_type": "markdown",
     "metadata": {},
     "source": [
      "# Curva serpentinoide continua\n",
      "\n",
      "## Definici\u00f3n\n",
      "\n",
      "La curva serpentinoide es aquella cuya [curvatura](http://es.wikipedia.org/wiki/Geometr%C3%ADa_diferencial_de_curvas#Curvatura_y_torsi.C3.B3n) var\u00eda *sinusoidalmente con la distancia* a lo largo de la curva.\n",
      "\n",
      "Su curvatura est\u00e1 dada por la ecuaci\u00f3n: \n",
      "\n",
      "<table>\n",
      "<tr>\n",
      "<td> $ K(s) = \\frac{2\\pi k}{l}\\alpha\\sin\\left(\\frac{2\\pi k}{l}s\\right) $ </td> \n",
      "<td> (**ec. 1**) </td>\n",
      "</tr>\n",
      "</table>\n",
      "\n",
      "donde:\n",
      "\n",
      "<table align = \"left\">\n",
      "<tr>\n",
      "<td>** $l$ **</td>\n",
      "<td>Longitud total de la curva $ (l > 0) $\n",
      "</tr>\n",
      "\n",
      "<tr>\n",
      "<td>** $s$ **</td>\n",
      "<td>Es la variable. [Longitud del arco](http://es.wikipedia.org/wiki/Longitud_de_arco). Es la distancia a lo largo de la curva. $ s\\in\\left[0,l\\right] $ </td>\n",
      "</tr>\n",
      "\n",
      "<tr>\n",
      "<td>** $ k $ **</td>\n",
      "<td>N\u00famero de ondulaciones. $ k > 0 $ </td>\n",
      "</tr>\n",
      "\n",
      "<tr>\n",
      "<td>** $ \\alpha $ **</td>\n",
      "<td>\u00c1ngulo de serpenteo. $ \\alpha\\in\\left[0,121\\right] $ </td>\n",
      "</tr>\n",
      "\n",
      "</table>\n",
      "\n",
      "\n"
     ]
    },
    {
     "cell_type": "markdown",
     "metadata": {},
     "source": [
      "## \u00c1ngulo de serpenteo $ \\alpha $\n",
      "\n",
      "El \u00e1ngulo de serpenteo $ \\alpha $ es la pendiente de la curva en el punto $ s = 0 $ y determina **la forma que tendr\u00e1 la curva**. \n",
      "\n",
      "En la **figura 1** se muestra la forma para \u00e1ngulos de serpenteo de 0, 30, 60 y 90. Para $ \\alpha=0 $ es una recta situada sobre el eje x, de longitud  $ l $. Al aumentar $ \\alpha $ la curva se eleva, ganando en altura pero reduci\u00e9ndose en anchura.\n",
      "\n",
      "En la **figura 2** se muestra la curva serpentinoide para $ \\alpha=121 $ grados, que es su valor m\u00e1ximo. A partir de ah\u00ed se producen colisiones entre los puntos de la curva. \n",
      "\n"
     ]
    },
    {
     "cell_type": "markdown",
     "metadata": {},
     "source": [
      "<table align = \"left\">\n",
      "<tr>\n",
      "  <td> <img src=\"images/png/Serpenoid-continuous-alpha-range.png\" width=\"400\" align=\"left\">  </td>\n",
      "</tr>\n",
      "\n",
      "<tr>\n",
      "<td> **Figura 1**: Forma de la curva serpentinoide para diferentes valores del \u00e1ngulo de serpenteo ($ \\alpha $) </td>\n",
      "</tr>\n",
      "\n",
      "</table>\n"
     ]
    },
    {
     "cell_type": "markdown",
     "metadata": {},
     "source": [
      "<table align = \"left\">\n",
      "<tr>\n",
      "  <td> <img src=\"images/png/Serpenoid-continuous-alpha-max.png\" width=\"300\" align=\"left\">  </td>\n",
      "</tr>\n",
      "\n",
      "<tr>\n",
      "<td> **Figura 2**: Curva serpentinoide de \u00e1ngulo de serpenteo ($ \\alpha $) m\u00e1ximo. Se muestran dos ondulaciones ( $ k=2 $) </td>\n",
      "</tr>\n",
      "\n",
      "</table>"
     ]
    },
    {
     "cell_type": "markdown",
     "metadata": {},
     "source": [
      "### Animaci\u00f3n de la variaci\u00f3n de la forma con $ \\alpha $\n",
      "\n",
      "En esta animaci\u00f3n se puede ver c\u00f3mo var\u00eda la forma de una curva serpentinoide de longitud fija $ l $ y 2 ondulaciones ($ k = 2 $), para diferentes \u00e1ngulos de serpenteo. Cuando $ \\alpha $ es cero, la curva serpentinoide es una recta de longitud $ l $ apoyada sobre el eje x\n",
      "\n",
      "\n",
      "<img src=\"images/gif/Serp_continuous_alpha_anim.gif\" align = \"left\">\n"
     ]
    },
    {
     "cell_type": "markdown",
     "metadata": {},
     "source": [
      "## N\u00famero de ondulaciones ($ k $)\n",
      "\n",
      "El **par\u00e1metro $ k $ ** determina el n\u00famero de ondulaciones de la curva serpentinoide.\n",
      "\n",
      "En la **figura 3** se han representado tres curvas con el mismo valor del \u00e1ngulo de serpenteo ($ \\alpha=70 $) y misma longitud $ l $, pero con diferentes valores de $ k $. Al aumentar k, aumenta el n\u00famero de ondulaciones, disminuye la altura pero **la anchura permanece constante **\n"
     ]
    },
    {
     "cell_type": "markdown",
     "metadata": {},
     "source": [
      "<table align = \"left\">\n",
      "<tr>\n",
      "  <td> <img src=\"images/png/Serpenoid-continuous-k-range.png\" width=\"400\" align=\"left\">  </td>\n",
      "</tr>\n",
      "\n",
      "<tr>\n",
      "<td> **Figura 3**: Forma una curva serpentinoide de longitud $ l $ para diferentes valores del par\u00e1metro $ k $, manteniendo fijo el valor de $ \\alpha $ a 70 </td>\n",
      "</tr>\n",
      "\n",
      "</table>"
     ]
    },
    {
     "cell_type": "markdown",
     "metadata": {},
     "source": [
      "### Animaci\u00f3n de la variaci\u00f3n de la forma con $ k $\n",
      "\n",
      "En la siguiente animaci\u00f3n se muestra c\u00f3mo var\u00eda la forma de una curva serpentinoide continua de longitud fija $ l=1 $ y \u00e1ngulo de serpenteo $ \\alpha = 70 $ con el par\u00e1metro $ k $. Se puede apreciar una propiedad muy importante: **La anchura en el eje x NO var\u00eda con k**\n",
      "\n",
      "\n",
      "<img src=\"images/gif/Serp_continuous_k_anim.gif\" align = \"left\">\n"
     ]
    },
    {
     "cell_type": "markdown",
     "metadata": {},
     "source": [
      "## Longitud ($l$)\n",
      "\n",
      "La longitud l de la curva determina su escala. En la **figura 4** se muestra una curva serpentinoide con valores fijos del \u00e1ngulo de serpenteo ($ \\alpha $) y de las ondulaciones ($ k $) pero con distintas longitudes. La forma es la misma, pero escalada. \n",
      "Normalmente $ l $ es una constante, ya que los robots tienen longitud fija. Salvo que se trate de un robot modulare reconfigurable en cuyo caso puede aumentar por la adici\u00f3n de n\u00faevos m\u00f3dulos o disminuir por su separaci\u00f3n\n"
     ]
    },
    {
     "cell_type": "markdown",
     "metadata": {},
     "source": [
      "<table align = \"left\">\n",
      "<tr>\n",
      "  <td> <img src=\"images/png/Serpenoid-continuous-l-range.png\" width=\"400\" align=\"left\">  </td>\n",
      "</tr>\n",
      "\n",
      "<tr>\n",
      "<td> **Figura 4**:  Forma de la curva serpentinoide con valores fijos del \u00e1ngulo de serpenteo $ \\alpha=70 $ y $ k=1 $ para diferentes valores de la longitud $ l $. La longitud determina la escala.   </td>\n",
      "</tr>\n",
      "\n",
      "</table>"
     ]
    }
   ],
   "metadata": {}
  }
 ]
}