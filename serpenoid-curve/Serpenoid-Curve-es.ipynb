{
 "metadata": {
  "name": "",
  "signature": "sha256:d4fc27c5b3b219e9fe1e0332d5f6ec4d348de5847c9ae068738e5639c5abd0e0"
 },
 "nbformat": 3,
 "nbformat_minor": 0,
 "worksheets": [
  {
   "cells": [
    {
     "cell_type": "heading",
     "level": 1,
     "metadata": {},
     "source": [
      "CURVA SERPENTINOIDE"
     ]
    },
    {
     "cell_type": "markdown",
     "metadata": {},
     "source": [
      "<img src=\"images/png/Serpenoid-intro-image.png\" width=\"400\" align=\"left\">"
     ]
    },
    {
     "cell_type": "markdown",
     "metadata": {},
     "source": [
      "**Autor**: [Juan Gonz\u00e1lez G\u00f3mez (Obijuan)](http://www.iearobotics.com/wiki/index.php?title=Juan_Gonzalez:Main)\n",
      "\n",
      "**Fecha**: 18-Enero-2015\n",
      "\n",
      "**Licencia**: Licencia Creative Commons BY-SA para el texto e im\u00e1genes. GPL v2 para el software\n",
      "\n",
      "Este notebook es una adaptaci\u00f3n de [esta p\u00e1gina de la wiki](http://www.iearobotics.com/wiki/index.php?title=Curva_serpentinoide) donde se comenz\u00f3 a documentar la curva y su implementaci\u00f3n en octave/Matlab\n",
      "\n",
      "Adem\u00e1s de ampliar la informaci\u00f3n sobre la curva, quiero aprovechar para aprender los ipython notebooks"
     ]
    },
    {
     "cell_type": "markdown",
     "metadata": {},
     "source": [
      "# Introducci\u00f3n\n",
      "\n",
      "La **curva serpentinoide** (o curva serpenoide, serpenoid curve en ingl\u00e9s) la descubri\u00f3 el **profesor Hirose** en 1976 cuando realizaba su tesis doctoral en el Instituto de tecnolog\u00eda de Tokyo. Investigaba la biomec\u00e1nica de las serpientes para su aplicaci\u00f3n a la construcci\u00f3n de robots.\n",
      "\n",
      "La curva serpentinoide es indispensable para el estudio y construcci\u00f3n de **robots \u00e1podos** (gusanos y serpientes). El autor de este art\u00edculo la ha estudiado en su tesis doctoral para aplicarla a la locomoci\u00f3n de estos robots.\n",
      "\n",
      "En este documento se describe la **curva/onda serpentinoide**, sus par\u00e1metros, sus propiedas y se presentan scripts en python para implementarla.\n"
     ]
    },
    {
     "cell_type": "markdown",
     "metadata": {},
     "source": [
      "# Curva serpentinoide continua\n",
      "\n",
      "## Definici\u00f3n\n",
      "\n",
      "La curva serpentinoide es aquella cuya [curvatura](http://es.wikipedia.org/wiki/Geometr%C3%ADa_diferencial_de_curvas#Curvatura_y_torsi.C3.B3n) var\u00eda *sinusoidalmente con la distancia* a lo largo de la curva.\n",
      "\n",
      "Su curvatura est\u00e1 dada por la ecuaci\u00f3n: \n",
      "\n",
      "<table>\n",
      "<tr>\n",
      "<td> $ K(s) = \\frac{2\\pi k}{l}\\alpha\\sin\\left(\\frac{2\\pi k}{l}s\\right) $ </td> \n",
      "<td>Ecuaci\u00f3n de curvatura de la serpentinoide</td>\n",
      "<td> (**ec. 1**) </td>\n",
      "</tr>\n",
      "</table>\n",
      "\n",
      "donde:\n",
      "\n",
      "<table align = \"left\">\n",
      "<tr>\n",
      "<td>** $l$ **</td>\n",
      "<td>Longitud total de la curva $ (l > 0) $\n",
      "</tr>\n",
      "\n",
      "<tr>\n",
      "<td>** $s$ **</td>\n",
      "<td>Es la variable. [Longitud del arco](http://es.wikipedia.org/wiki/Longitud_de_arco). Es la distancia a lo largo de la curva. $ s\\in\\left[0,l\\right] $ </td>\n",
      "</tr>\n",
      "\n",
      "<tr>\n",
      "<td>** $ k $ **</td>\n",
      "<td>N\u00famero de ondulaciones. $ k > 0 $ </td>\n",
      "</tr>\n",
      "\n",
      "<tr>\n",
      "<td>** $ \\alpha $ **</td>\n",
      "<td>\u00c1ngulo de serpenteo. $ \\alpha\\in\\left[0,121\\right] $ </td>\n",
      "</tr>\n",
      "\n",
      "</table>\n",
      "\n",
      "\n"
     ]
    },
    {
     "cell_type": "markdown",
     "metadata": {},
     "source": [
      "## \u00c1ngulo de serpenteo $ \\alpha $\n",
      "\n",
      "El \u00e1ngulo de serpenteo $ \\alpha $ es la pendiente de la curva en el punto $ s = 0 $ y determina **la forma que tendr\u00e1 la curva**. \n",
      "\n",
      "En la **figura 1** se muestra la forma para \u00e1ngulos de serpenteo de 0, 30, 60 y 90. Para $ \\alpha=0 $ es una recta situada sobre el eje x, de longitud  $ l $. Al aumentar $ \\alpha $ la curva se eleva, ganando en altura pero reduci\u00e9ndose en anchura.\n",
      "\n",
      "En la **figura 2** se muestra la curva serpentinoide para $ \\alpha=121 $ grados, que es su valor m\u00e1ximo. A partir de ah\u00ed se producen colisiones entre los puntos de la curva. \n",
      "\n"
     ]
    },
    {
     "cell_type": "markdown",
     "metadata": {},
     "source": [
      "<table align = \"left\">\n",
      "<tr>\n",
      "  <td> <img src=\"images/png/Serpenoid-continuous-alpha-range.png\" width=\"400\" align=\"left\">  </td>\n",
      "</tr>\n",
      "\n",
      "<tr>\n",
      "<td> **Figura 1**: Forma de la curva serpentinoide para diferentes valores del \u00e1ngulo de serpenteo ($ \\alpha $) </td>\n",
      "</tr>\n",
      "\n",
      "</table>\n"
     ]
    },
    {
     "cell_type": "markdown",
     "metadata": {},
     "source": [
      "<table align = \"left\">\n",
      "<tr>\n",
      "  <td> <img src=\"images/png/Serpenoid-continuous-alpha-max.png\" width=\"300\" align=\"left\">  </td>\n",
      "</tr>\n",
      "\n",
      "<tr>\n",
      "<td> **Figura 2**: Curva serpentinoide de \u00e1ngulo de serpenteo ($ \\alpha $) m\u00e1ximo. Se muestran dos ondulaciones ( $ k=2 $) </td>\n",
      "</tr>\n",
      "\n",
      "</table>"
     ]
    },
    {
     "cell_type": "markdown",
     "metadata": {},
     "source": [
      "### Animaci\u00f3n de la variaci\u00f3n de la forma con $ \\alpha $\n",
      "\n",
      "En esta animaci\u00f3n se puede ver c\u00f3mo var\u00eda la forma de una curva serpentinoide de longitud fija $ l $ y 2 ondulaciones ($ k = 2 $), para diferentes \u00e1ngulos de serpenteo. Cuando $ \\alpha $ es cero, la curva serpentinoide es una recta de longitud $ l $ apoyada sobre el eje x\n",
      "\n",
      "\n",
      "<img src=\"images/gif/Serp_continuous_alpha_anim.gif\" align = \"left\">\n"
     ]
    },
    {
     "cell_type": "markdown",
     "metadata": {},
     "source": [
      "## N\u00famero de ondulaciones ($ k $)\n",
      "\n",
      "El **par\u00e1metro $ k $ ** determina el n\u00famero de ondulaciones de la curva serpentinoide.\n",
      "\n",
      "En la **figura 3** se han representado tres curvas con el mismo valor del \u00e1ngulo de serpenteo ($ \\alpha=70 $) y misma longitud $ l $, pero con diferentes valores de $ k $. Al aumentar k, aumenta el n\u00famero de ondulaciones, disminuye la altura pero **la anchura permanece constante **\n"
     ]
    },
    {
     "cell_type": "markdown",
     "metadata": {},
     "source": [
      "<table align = \"left\">\n",
      "<tr>\n",
      "  <td> <img src=\"images/png/Serpenoid-continuous-k-range.png\" width=\"400\" align=\"left\">  </td>\n",
      "</tr>\n",
      "\n",
      "<tr>\n",
      "<td> **Figura 3**: Forma una curva serpentinoide de longitud $ l $ para diferentes valores del par\u00e1metro $ k $, manteniendo fijo el valor de $ \\alpha $ a 70 </td>\n",
      "</tr>\n",
      "\n",
      "</table>"
     ]
    },
    {
     "cell_type": "markdown",
     "metadata": {},
     "source": [
      "### Animaci\u00f3n de la variaci\u00f3n de la forma con $ k $\n",
      "\n",
      "En la siguiente animaci\u00f3n se muestra c\u00f3mo var\u00eda la forma de una curva serpentinoide continua de longitud fija $ l=1 $ y \u00e1ngulo de serpenteo $ \\alpha = 70 $ con el par\u00e1metro $ k $. Se puede apreciar una propiedad muy importante: **La anchura en el eje x NO var\u00eda con k**\n",
      "\n",
      "\n",
      "<img src=\"images/gif/Serp_continuous_k_anim.gif\" align = \"left\">\n"
     ]
    },
    {
     "cell_type": "markdown",
     "metadata": {},
     "source": [
      "## Longitud ($l$)\n",
      "\n",
      "La longitud l de la curva determina su escala. En la **figura 4** se muestra una curva serpentinoide con valores fijos del \u00e1ngulo de serpenteo ($ \\alpha $) y de las ondulaciones ($ k $) pero con distintas longitudes. La forma es la misma, pero escalada. \n",
      "Normalmente $ l $ es una constante, ya que los robots tienen longitud fija. Salvo que se trate de un robot modulare reconfigurable en cuyo caso puede aumentar por la adici\u00f3n de n\u00faevos m\u00f3dulos o disminuir por su separaci\u00f3n\n"
     ]
    },
    {
     "cell_type": "markdown",
     "metadata": {},
     "source": [
      "<table align = \"left\">\n",
      "<tr>\n",
      "  <td> <img src=\"images/png/Serpenoid-continuous-l-range.png\" width=\"400\" align=\"left\">  </td>\n",
      "</tr>\n",
      "\n",
      "<tr>\n",
      "<td> **Figura 4**:  Forma de la curva serpentinoide con valores fijos del \u00e1ngulo de serpenteo $ \\alpha=70 $ y $ k=1 $ para diferentes valores de la longitud $ l $. La longitud determina la escala.   </td>\n",
      "</tr>\n",
      "\n",
      "</table>"
     ]
    },
    {
     "cell_type": "markdown",
     "metadata": {},
     "source": [
      "## Puntos de inter\u00e9s\n",
      "\n",
      "<table align = \"left\">\n",
      "<tr>\n",
      "  <td> <img src=\"images/png/Serpenoid-continuous-important-points.png\" width=\"500\" align=\"left\">  </td>\n",
      "</tr>\n",
      "\n",
      "<tr>\n",
      "<td> **Figura 5**: Situaci\u00f3n de los puntos de m\u00e1xima y nula curvatura en una serpentinoide de $k=2$ y $\\alpha=70$ </td>\n",
      "</tr>\n",
      "\n",
      "</table>\n",
      "\n"
     ]
    },
    {
     "cell_type": "markdown",
     "metadata": {},
     "source": [
      "### Puntos de m\u00ednima curvatura (curvatura 0)\n",
      "\n",
      "Para una curva serpentinoide con \u00e1ngulo de serpenteo mayor de cero ($ \\alpha > 0 $), los puntos donde la curvatura es 0 son:\n",
      "\n",
      "<table>\n",
      "<tr>\n",
      "<td>  $ s = n\\frac{l}{2k}$ con $ n = 0, 1, 2 ... $ </td> \n",
      "<td> Puntos curvatura m\u00ednima </td>\n",
      "<td> (**ec. 2**) </td>\n",
      "</tr>\n",
      "</table>\n"
     ]
    },
    {
     "cell_type": "markdown",
     "metadata": {},
     "source": [
      "#### Demostraci\u00f3n\n",
      "\n",
      "Los puntos de la curva serpentinoide donde la curvatura es cero los calculamos igualando la **ec. 1** a cero\n",
      "\n",
      "$ K\\left(s\\right)=0 \\Longrightarrow\\ \\frac{2\\pi k}{l}\\alpha\\sin\\left(\\frac{2\\pi k}{l}s\\right) = 0$\n",
      "\n",
      "Puesto que por definici\u00f3n, la longitud de la curva y el n\u00famero de ondulaciones son distintos de cero ($ k > 0 $ y $ l > 0$) se tiene que:\n",
      "\n",
      "$ \\alpha\\sin\\left(\\frac{2\\pi k}{l}s\\right) = 0 $\n",
      "\n",
      "Y esta igualdad se cumple en dos casos:\n",
      "\n",
      "*  **Caso 1: $ \\alpha =  0 $**.  Es el caso en el que la curva serpentinoide es una l\u00ednea recta de longitud $ l $ apoyada sobre el eje x. Todos sus puntos tienen curvatura 0\n",
      "\n",
      "* **Caso 2: $ \\sin\\left(\\frac{2\\pi k}{l}s\\right) = 0 $ ** $ \\Longrightarrow\\ \\frac{2\\pi k}{l}s = \\pi n$ con $ n = 0, 1, 2 ... \\Longrightarrow\\  s = n\\frac{l}{2k}$ con $ n = 0, 1, 2 ... $"
     ]
    },
    {
     "cell_type": "markdown",
     "metadata": {},
     "source": [
      "### Puntos de m\u00e1xima curvatura\n",
      "\n",
      "Para una curva serpentinoide con \u00e1ngulo de serpenteo mayor de cero ($\\alpha > 0 $), los puntos de curvatura m\u00e1xima son:\n",
      "\n",
      "<table>\n",
      "<tr>\n",
      "<td>  $ s = (2n + 1) \\frac{l}{4k} $, con  $ n = 0,1,2,3... $ </td> \n",
      "<td> Puntos curvatura m\u00e1xima </td>\n",
      "<td> (**ec. 3**) </td>\n",
      "</tr>\n",
      "</table>"
     ]
    },
    {
     "cell_type": "markdown",
     "metadata": {},
     "source": [
      "#### Demostraci\u00f3n\n",
      "\n",
      "Los puntos de m\u00e1xima curvatura los obtendremos calculando los m\u00e1ximos y m\u00ednimos de la ecuaci\u00f3n de curvatura de la serpentinoide (ec. 1). Para ello igualamos a cero el valor absoluto de la derivada de la ecuaci\u00f3n de curvatura:\n",
      "\n",
      "$ | \\frac{dK(s)}{ds} | = 0  \\Longrightarrow\\  | \\frac{d \\left( \\frac{2\\pi k}{l}\\alpha\\sin\\left(\\frac{2\\pi k}{l}s\\right) \\right)  }{ds} | = 0 \\Longrightarrow\\ \\left( \\frac{2\\pi k}{l} \\right)^2 \\alpha \\cos\\left( \\frac{2\\pi k}{l}s \\right) = 0 \\Longrightarrow\\ \\alpha \\cos\\left( \\frac{2\\pi k}{l}s \\right) = 0 $\n",
      "\n",
      "El caso $ \\alpha = 0 $ es una l\u00ednea recta, as\u00ed que, para el resto de curvas donde $ \\alpha > 0 $  se cumple que:\n",
      "\n",
      "$ \\cos\\left( \\frac{2\\pi k}{l}s \\right) = 0 $\n",
      "\n",
      "y eso implica que:\n",
      "\n",
      "$ \\frac{2\\pi k}{l}s = \\frac{\\pi}{2} + n\\pi   $ \n",
      "\n",
      "Despejando s obtenemos la condici\u00f3n:\n",
      "\n",
      "$ s = (2n + 1) \\frac{l}{4k} $, con  $ n = 0,1,2,3... $\n"
     ]
    },
    {
     "cell_type": "markdown",
     "metadata": {},
     "source": [
      "\n",
      "\n",
      "\n"
     ]
    },
    {
     "cell_type": "markdown",
     "metadata": {},
     "source": [
      "## Pendiente de la curva $ \\alpha_s $\n",
      "\n",
      "\n",
      "<table align = \"left\">\n",
      "<tr>\n",
      "  <td> <img src=\"images/png/Serpenoid-continuous-alpha_s.png\" width=\"500\" align=\"left\">  </td>\n",
      "</tr>\n",
      "\n",
      "<tr>\n",
      "<td> **Figura 6**: $ \\alpha_s $ en diferentes puntos de la curva serpentinoide </td>\n",
      "</tr>\n",
      "\n",
      "</table>"
     ]
    },
    {
     "cell_type": "markdown",
     "metadata": {},
     "source": [
      "Denotamos **la pendiente del vector tangente** a la curva por el punto s como <math>\\alpha_s</math>\n",
      "\n",
      "Por definici\u00f3n, la curvatura se define como el ritmo de cambio del vector unidad tangente a la curva, es decir:\n",
      "\n",
      "$ K(s)=\\frac{d\\alpha_{s}}{ds} $\n",
      "\n",
      "A partir de esa ecuaci\u00f3n calculamos la pendiente de la curva mediante integraci\u00f3n:\n",
      "\n",
      "$ \\alpha_{s}=\\alpha+\\int_{0}^{s}K(s)ds $\n",
      "\n",
      "llegando a la expresi\u00f3n: \n",
      "\n",
      "<table>\n",
      "<tr>\n",
      "<td> $ \\alpha_{s}=\\alpha\\cos\\left(\\frac{2\\pi k}{l}s\\right) $  </td> \n",
      "<td> Pendiente de la curva serpentinoide </td>\n",
      "<td> **ec. 4** </td>\n",
      "</tr>\n",
      "</table>\n",
      "\n",
      "En la **figura 6** se muestra el valor de $ \\alpha_s $ sobre una curva serpentinoide. En los puntos de m\u00e1xima curvatura $ \\alpha_s = 0 $ y en los de curvatura nula $ |\\alpha_s|=\\alpha $"
     ]
    },
    {
     "cell_type": "markdown",
     "metadata": {},
     "source": [
      "## Formulaci\u00f3n de la curva serpentinoide en coordenadas cartesianas\n",
      "\n",
      "Las coordenadas cartesianas $ (x,y) $ de un punto $ s $ situado en la curva serpentinoide est\u00e1n dadas por las ecuaciones 5 y 6:\n",
      "\n",
      "<table>\n",
      "<tr>\n",
      "<td> $ x\\left(s\\right)=\\int_{0}^{s}\\cos\\left(\\alpha\\cos\\left(\\frac{2\\pi k}{l}s\\right)\\right)ds $ </td> \n",
      "<td> Coordenada x de la curva serpentinoide </td>\n",
      "<td> **ec. 5** </td>\n",
      "</tr>\n",
      "\n",
      "<tr>\n",
      "<td> $ y\\left(s\\right)=\\int_{0}^{s}\\sin\\left(\\alpha\\cos\\left(\\frac{2\\pi k}{l}s\\right)\\right)ds $ </td> \n",
      "<td> Coordenada y de la curva serpentinoide </td>\n",
      "<td> **ec. 6** </td>\n",
      "</tr>\n",
      "\n",
      "</table>\n",
      "\n",
      "Estas integrales **no tienen soluci\u00f3n anal\u00edtica**, por lo que tienen que resolverse num\u00e9ricamente\n"
     ]
    },
    {
     "cell_type": "markdown",
     "metadata": {},
     "source": [
      "### Demostraci\u00f3n\n",
      "\n",
      "Para su deducci\u00f3n hay que fijarse en el dibujo de la figura 7. \n",
      "\n",
      "<table align = \"left\">\n",
      "<tr>\n",
      "  <td> <img src=\"images/png/Serpenoid-continuous-cartesian-coordinates.png\" width=\"400\" align=\"left\">  </td>\n",
      "</tr>\n",
      "<tr>\n",
      "<td> **Figura 7**: C\u00e1lculo de las coordenadas cartesianas de un punto $ s $ de la curva serpentinoide </td>\n",
      "</tr>\n",
      "</table>"
     ]
    },
    {
     "cell_type": "markdown",
     "metadata": {},
     "source": [
      "En ella aparece una curva serpeninoide y un punto gen\u00e9rico situado a una distancia $ s $. Sus coordenadas son $ x(s), y(s) $. La pendiente a la curva por el punto $ s $ es $ \\alpha_s $. \"Ampliando\" el punto $ s $, vemos que est\u00e1 aproximado por un segmento de longitud $ ds $, que forma un \u00e1ngulo $ \\alpha_s $ con el eje x. Las proyecciones de este segmento son:\n",
      "\n",
      " $$ dx=ds\\ \\cos\\alpha_{s} $$\n",
      " $$ dy=ds\\ \\sin\\alpha_{s} $$ \n",
      "\n",
      "La abscisa del punto $ s $ se obtiene por tanto mediante la integraci\u00f3n de los $ dx $ :\n",
      "\n",
      "$ x\\left(s\\right)=\\int_{0}^{s}dx= $\n",
      "\n",
      "\n",
      "Aplicando la igualdad anterior para sustituir $ dx $ por $ ds $\n",
      "\n",
      "$ = \\int_{0}^{s}\\cos\\alpha_{s}ds = $\n",
      "\n",
      "y finalmente se aplica la **ec. 4**:\n",
      "\n",
      "$ =\\int_{0}^{s}\\cos\\left(\\alpha\\cos\\left(\\frac{2\\pi k}{l}s\\right)\\right)ds $\n",
      "\n",
      "Llegamos al resultado final (ec. 5)\n",
      "\n",
      "El razonamiento para obtener $ y(s) $ (ec. 6) es similar. "
     ]
    },
    {
     "cell_type": "markdown",
     "metadata": {},
     "source": [
      "## Formulaci\u00f3n de la curva serpentinoide en python"
     ]
    },
    {
     "cell_type": "code",
     "collapsed": false,
     "input": [
      "import numpy as np\n",
      "import scipy.integrate as spi\n",
      "import matplotlib.pylab as plt\n",
      "%matplotlib inline"
     ],
     "language": "python",
     "metadata": {},
     "outputs": [],
     "prompt_number": 127
    },
    {
     "cell_type": "markdown",
     "metadata": {},
     "source": [
      "Estas son las funciones que al ser integradas nos dar\u00e1n las funciones param\u00e9tricas con las coordenadas x,y:"
     ]
    },
    {
     "cell_type": "code",
     "collapsed": false,
     "input": [
      "#-- Alpha parameters should be given in degrees\n",
      "def calphas(s, alpha, l = 1, k = 1, phi = 0):\n",
      "    \n",
      "    #-- Convert alpha and phi into radians\n",
      "    alpha_rad = alpha * np.pi / 180.\n",
      "    phi_rad = phi * np.pi / 180.\n",
      "    \n",
      "    return np.cos(alpha_rad * np.cos(2 * np.pi * k * s / l + phi_rad))\n",
      "\n",
      "def salphas(s, alpha, l = 1, k = 1, phi = 0):\n",
      "    \n",
      "    #-- Convert alpha into radians\n",
      "    alpha_rad = alpha * np.pi / 180.\n",
      "    phi_rad = phi * np.pi / 180.\n",
      "    \n",
      "    return np.sin(alpha_rad * np.cos(2 * np.pi * k * s / l + phi_rad))\n"
     ],
     "language": "python",
     "metadata": {},
     "outputs": [],
     "prompt_number": 132
    },
    {
     "cell_type": "markdown",
     "metadata": {},
     "source": [
      "Estas son las funciones parametricas que nos dan las coordenadas x,y a partir de s"
     ]
    },
    {
     "cell_type": "code",
     "collapsed": false,
     "input": [
      "#-- Scalar functions. Variable s is a real number\n",
      "def serp_x_scalar (s, alpha, l = 1, k = 1, phi = 0):\n",
      "    return spi.quad(calphas, 0, s, args =(alpha, l, k, phi) )\n",
      "\n",
      "def serp_y_scalar (s, alpha, l = 1, k = 1, phi = 0):\n",
      "    return spi.quad(salphas, 0, s, args =(alpha, l, k, phi) )"
     ],
     "language": "python",
     "metadata": {},
     "outputs": [],
     "prompt_number": 129
    },
    {
     "cell_type": "markdown",
     "metadata": {},
     "source": [
      "Y por \u00faltimo esta es la funci\u00f3n que tiene las coordenadas de una curva serpentinoide. La variable s es un array con todos los valores"
     ]
    },
    {
     "cell_type": "code",
     "collapsed": false,
     "input": [
      "def serp (s, alpha = 45, l = 1, k = 1, phi = 0):\n",
      "    \"\"\"Serpenoid curve\n",
      "       Inputs:\n",
      "         - alpha : winding angle (in degrees)\n",
      "         - l : Curve length\n",
      "         - k : Number of undulations\n",
      "       S is the variable (it is an array). The x,y arrays are returned\n",
      "    \"\"\"\n",
      "    \n",
      "    #-- Results\n",
      "    x = []\n",
      "    y = []\n",
      "    \n",
      "    for i, vs in enumerate(s):\n",
      "        x.append(serp_x_scalar(vs, alpha, l, k, phi)[0])\n",
      "        y.append(serp_y_scalar(vs, alpha, l, k, phi)[0])\n",
      "    return x,y\n"
     ],
     "language": "python",
     "metadata": {},
     "outputs": [],
     "prompt_number": 130
    },
    {
     "cell_type": "markdown",
     "metadata": {},
     "source": [
      "## Probando la curva serpentinoide"
     ]
    },
    {
     "cell_type": "markdown",
     "metadata": {},
     "source": [
      "Ejemplo de una curva serpentinoide con \u00e1ngulo de serpenteo de 60 grados, longitud 1m y una \u00fanica ondulaci\u00f3n"
     ]
    },
    {
     "cell_type": "code",
     "collapsed": false,
     "input": [
      "#-- Obtener los puntos a lo largo de la curva\n",
      "s = np.linspace(0, 1, 100)\n",
      "\n",
      "#-- Obtener las coordenadas x,y\n",
      "x, y = serp(s, alpha = 60, l = 1, k = 1)\n",
      "\n",
      "#-- Dibujar la curva\n",
      "plt.plot(x, y, linewidth = 3)\n",
      "plt.grid()\n",
      "plt.axis('equal')\n",
      "plt.show()"
     ],
     "language": "python",
     "metadata": {},
     "outputs": [
      {
       "metadata": {},
       "output_type": "display_data",
       "png": "[encoded data removed]",
       "text": [
        "<matplotlib.figure.Figure at 0x7f79d2136510>"
       ]
      }
     ],
     "prompt_number": 137
    },
    {
     "cell_type": "code",
     "collapsed": false,
     "input": [
      "\n"
     ],
     "language": "python",
     "metadata": {},
     "outputs": [],
     "prompt_number": 131
    },
    {
     "cell_type": "code",
     "collapsed": false,
     "input": [],
     "language": "python",
     "metadata": {},
     "outputs": [],
     "prompt_number": 131
    },
    {
     "cell_type": "code",
     "collapsed": false,
     "input": [],
     "language": "python",
     "metadata": {},
     "outputs": [],
     "prompt_number": 131
    },
    {
     "cell_type": "code",
     "collapsed": false,
     "input": [],
     "language": "python",
     "metadata": {},
     "outputs": [],
     "prompt_number": 131
    },
    {
     "cell_type": "markdown",
     "metadata": {},
     "source": [
      "# Bibliograf\u00eda\n",
      "\n",
      "* S. Hirose. Biologically Inspired Robots (Snake-like Locomotor and Manipulator). Oxford Science Press, 1993.\n",
      "* Juan Gonzalez-Gomez, \"Rob\u00f3tica Modular y Locomoci\u00f3n: Aplicaci\u00f3n a Robots \u00c1podos\". Tesis doctoral. Universidad Aut\u00f3noma de Madrid. Noviembre-2008 [M\u00e1s informaci\u00f3n](http://www.iearobotics.com/wiki/index.php?title=Juan_Gonzalez:Tesis) "
     ]
    }
   ],
   "metadata": {}
  }
 ]
}