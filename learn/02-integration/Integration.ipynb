{
 "metadata": {
  "name": "",
  "signature": "sha256:ae3c6d33c62b2dab9f6ed129ef9ed9e32e1313f8e0d3fd060f8001ddd7658566"
 },
 "nbformat": 3,
 "nbformat_minor": 0,
 "worksheets": [
  {
   "cells": [
    {
     "cell_type": "markdown",
     "metadata": {},
     "source": [
      "Simple example of how to integrate a function\n",
      "\n",
      "More information:\n",
      "\n",
      "http://docs.scipy.org/doc/scipy/reference/generated/scipy.integrate.quad.html"
     ]
    },
    {
     "cell_type": "code",
     "collapsed": false,
     "input": [
      "import scipy.integrate as spi\n",
      "import numpy as np\n",
      "import matplotlib.pylab as plt"
     ],
     "language": "python",
     "metadata": {},
     "outputs": [],
     "prompt_number": 60
    },
    {
     "cell_type": "code",
     "collapsed": false,
     "input": [
      "%matplotlib inline"
     ],
     "language": "python",
     "metadata": {},
     "outputs": [],
     "prompt_number": 61
    },
    {
     "cell_type": "markdown",
     "metadata": {},
     "source": [
      "## Hello world example\n",
      "\n",
      "Function to be integrated: $ f(x) = x\u00b2 $"
     ]
    },
    {
     "cell_type": "code",
     "collapsed": false,
     "input": [
      "def f(x):\n",
      "    return x**2"
     ],
     "language": "python",
     "metadata": {},
     "outputs": [],
     "prompt_number": 9
    },
    {
     "cell_type": "markdown",
     "metadata": {},
     "source": [
      "Compute the definite integral"
     ]
    },
    {
     "cell_type": "code",
     "collapsed": false,
     "input": [
      "spi.quad(f, 0, 4)\n",
      "#-- It returns a tuple with the result and the error"
     ],
     "language": "python",
     "metadata": {},
     "outputs": [
      {
       "metadata": {},
       "output_type": "pyout",
       "prompt_number": 15,
       "text": [
        "(21.333333333333336, 2.368475785867001e-13)"
       ]
      }
     ],
     "prompt_number": 15
    },
    {
     "cell_type": "code",
     "collapsed": false,
     "input": [
      "#--- The exact result is:\n",
      "4 ** 3 / 3."
     ],
     "language": "python",
     "metadata": {},
     "outputs": [
      {
       "metadata": {},
       "output_type": "pyout",
       "prompt_number": 18,
       "text": [
        "21.333333333333332"
       ]
      }
     ],
     "prompt_number": 18
    },
    {
     "cell_type": "markdown",
     "metadata": {},
     "source": [
      "## Sine function inegration"
     ]
    },
    {
     "cell_type": "markdown",
     "metadata": {},
     "source": [
      "Function to be integrated: $ g(x) = A \\sin ( \\frac{2 \\pi k}{T} + \\phi) $"
     ]
    },
    {
     "cell_type": "code",
     "collapsed": false,
     "input": [
      "##-- Function with one variable and three constants\n",
      "def g(x, A = 1., k = 1, T = 1., phi = 0):\n",
      "    \n",
      "    #-- This is just for debugging\n",
      "    print(\"A: {}, k:{}, T:{}, phi:{}\".format(A, k, T, phi))\n",
      "    \n",
      "    #-- The function\n",
      "    return A * np.sin(2 * np.pi * k * x / T + phi)"
     ],
     "language": "python",
     "metadata": {},
     "outputs": [],
     "prompt_number": 63
    },
    {
     "cell_type": "markdown",
     "metadata": {},
     "source": [
      "### Function checking"
     ]
    },
    {
     "cell_type": "code",
     "collapsed": false,
     "input": [
      "g(1/4.)"
     ],
     "language": "python",
     "metadata": {},
     "outputs": [
      {
       "output_type": "stream",
       "stream": "stdout",
       "text": [
        "A: 1.0, k:1, T:1.0, phi:0\n"
       ]
      },
      {
       "metadata": {},
       "output_type": "pyout",
       "prompt_number": 53,
       "text": [
        "1.0"
       ]
      }
     ],
     "prompt_number": 53
    },
    {
     "cell_type": "code",
     "collapsed": false,
     "input": [
      "g(0)"
     ],
     "language": "python",
     "metadata": {},
     "outputs": [
      {
       "output_type": "stream",
       "stream": "stdout",
       "text": [
        "A: 1.0, k:1, T:1.0, phi:0\n"
       ]
      },
      {
       "metadata": {},
       "output_type": "pyout",
       "prompt_number": 54,
       "text": [
        "0.0"
       ]
      }
     ],
     "prompt_number": 54
    },
    {
     "cell_type": "code",
     "collapsed": false,
     "input": [
      "x = np.linspace(0, 1, 50)\n",
      "plt.plot(x, g(x), linewidth = 2)\n",
      "plt.axis([0, 1, -1.1, 1.1])\n",
      "plt.grid()\n",
      "plt.show()"
     ],
     "language": "python",
     "metadata": {},
     "outputs": [
      {
       "output_type": "stream",
       "stream": "stdout",
       "text": [
        "A: 1.0, k:1, T:1.0, phi:0\n"
       ]
      },
      {
       "metadata": {},
       "output_type": "display_data",
       "png": "[encoded data removed]",
       "text": [
        "<matplotlib.figure.Figure at 0x7f13b618c690>"
       ]
      }
     ],
     "prompt_number": 67
    },
    {
     "cell_type": "code",
     "collapsed": false,
     "input": [
      "#-- Integrate the function\n",
      "spi.quad(g, a = 0, b = 1/2.)\n"
     ],
     "language": "python",
     "metadata": {},
     "outputs": [
      {
       "output_type": "stream",
       "stream": "stdout",
       "text": [
        "A: 1.0, k:1, T:1.0, phi:0\n",
        "A: 1.0, k:1, T:1.0, phi:0\n",
        "A: 1.0, k:1, T:1.0, phi:0\n",
        "A: 1.0, k:1, T:1.0, phi:0\n",
        "A: 1.0, k:1, T:1.0, phi:0\n",
        "A: 1.0, k:1, T:1.0, phi:0\n",
        "A: 1.0, k:1, T:1.0, phi:0\n",
        "A: 1.0, k:1, T:1.0, phi:0\n",
        "A: 1.0, k:1, T:1.0, phi:0\n",
        "A: 1.0, k:1, T:1.0, phi:0\n",
        "A: 1.0, k:1, T:1.0, phi:0\n",
        "A: 1.0, k:1, T:1.0, phi:0\n",
        "A: 1.0, k:1, T:1.0, phi:0\n",
        "A: 1.0, k:1, T:1.0, phi:0\n",
        "A: 1.0, k:1, T:1.0, phi:0\n",
        "A: 1.0, k:1, T:1.0, phi:0\n",
        "A: 1.0, k:1, T:1.0, phi:0\n",
        "A: 1.0, k:1, T:1.0, phi:0\n",
        "A: 1.0, k:1, T:1.0, phi:0\n",
        "A: 1.0, k:1, T:1.0, phi:0\n",
        "A: 1.0, k:1, T:1.0, phi:0\n"
       ]
      },
      {
       "metadata": {},
       "output_type": "pyout",
       "prompt_number": 69,
       "text": [
        "(0.3183098861837907, 3.5339496460705744e-15)"
       ]
      }
     ],
     "prompt_number": 69
    },
    {
     "cell_type": "code",
     "collapsed": false,
     "input": [
      "spi.quad(g, a = 0, b = 1)"
     ],
     "language": "python",
     "metadata": {},
     "outputs": [
      {
       "output_type": "stream",
       "stream": "stdout",
       "text": [
        "A: 1.0, k:1, T:1.0, phi:0\n",
        "A: 1.0, k:1, T:1.0, phi:0\n",
        "A: 1.0, k:1, T:1.0, phi:0\n",
        "A: 1.0, k:1, T:1.0, phi:0\n",
        "A: 1.0, k:1, T:1.0, phi:0\n",
        "A: 1.0, k:1, T:1.0, phi:0\n",
        "A: 1.0, k:1, T:1.0, phi:0\n",
        "A: 1.0, k:1, T:1.0, phi:0\n",
        "A: 1.0, k:1, T:1.0, phi:0\n",
        "A: 1.0, k:1, T:1.0, phi:0\n",
        "A: 1.0, k:1, T:1.0, phi:0\n",
        "A: 1.0, k:1, T:1.0, phi:0\n",
        "A: 1.0, k:1, T:1.0, phi:0\n",
        "A: 1.0, k:1, T:1.0, phi:0\n",
        "A: 1.0, k:1, T:1.0, phi:0\n",
        "A: 1.0, k:1, T:1.0, phi:0\n",
        "A: 1.0, k:1, T:1.0, phi:0\n",
        "A: 1.0, k:1, T:1.0, phi:0\n",
        "A: 1.0, k:1, T:1.0, phi:0\n",
        "A: 1.0, k:1, T:1.0, phi:0\n",
        "A: 1.0, k:1, T:1.0, phi:0\n"
       ]
      },
      {
       "metadata": {},
       "output_type": "pyout",
       "prompt_number": 71,
       "text": [
        "(-7.272153279333111e-18, 7.002641250699693e-15)"
       ]
      }
     ],
     "prompt_number": 71
    },
    {
     "cell_type": "code",
     "collapsed": false,
     "input": [
      "x = np.linspace(0, 1, 50)\n",
      "plt.plot(x, g(x, k = 2), linewidth = 2)\n",
      "plt.axis([0, 1, -1.1, 1.1])\n",
      "plt.grid()\n",
      "plt.show()"
     ],
     "language": "python",
     "metadata": {},
     "outputs": [
      {
       "output_type": "stream",
       "stream": "stdout",
       "text": [
        "A: 1.0, k:2, T:1.0, phi:0\n"
       ]
      },
      {
       "metadata": {},
       "output_type": "display_data",
       "png": "[encoded data removed]",
       "text": [
        "<matplotlib.figure.Figure at 0x7f13b60ef5d0>"
       ]
      }
     ],
     "prompt_number": 73
    },
    {
     "cell_type": "code",
     "collapsed": false,
     "input": [
      "spi.quad(g, a = 0, b = 1/4., args = (1, 2) )  #-- k = 2"
     ],
     "language": "python",
     "metadata": {},
     "outputs": [
      {
       "output_type": "stream",
       "stream": "stdout",
       "text": [
        "A: 1, k:2, T:1.0, phi:0\n",
        "A: 1, k:2, T:1.0, phi:0\n",
        "A: 1, k:2, T:1.0, phi:0\n",
        "A: 1, k:2, T:1.0, phi:0\n",
        "A: 1, k:2, T:1.0, phi:0\n",
        "A: 1, k:2, T:1.0, phi:0\n",
        "A: 1, k:2, T:1.0, phi:0\n",
        "A: 1, k:2, T:1.0, phi:0\n",
        "A: 1, k:2, T:1.0, phi:0\n",
        "A: 1, k:2, T:1.0, phi:0\n",
        "A: 1, k:2, T:1.0, phi:0\n",
        "A: 1, k:2, T:1.0, phi:0\n",
        "A: 1, k:2, T:1.0, phi:0\n",
        "A: 1, k:2, T:1.0, phi:0\n",
        "A: 1, k:2, T:1.0, phi:0\n",
        "A: 1, k:2, T:1.0, phi:0\n",
        "A: 1, k:2, T:1.0, phi:0\n",
        "A: 1, k:2, T:1.0, phi:0\n",
        "A: 1, k:2, T:1.0, phi:0\n",
        "A: 1, k:2, T:1.0, phi:0\n",
        "A: 1, k:2, T:1.0, phi:0\n"
       ]
      },
      {
       "metadata": {},
       "output_type": "pyout",
       "prompt_number": 75,
       "text": [
        "(0.15915494309189535, 1.7669748230352872e-15)"
       ]
      }
     ],
     "prompt_number": 75
    },
    {
     "cell_type": "markdown",
     "metadata": {},
     "source": [
      "TODO: Calculate the real integral and check that these results are ok"
     ]
    }
   ],
   "metadata": {}
  }
 ]
}